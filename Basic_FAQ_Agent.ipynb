{
  "nbformat": 4,
  "nbformat_minor": 0,
  "metadata": {
    "colab": {
      "provenance": [],
      "gpuType": "T4",
      "include_colab_link": true
    },
    "kernelspec": {
      "name": "python3",
      "display_name": "Python 3"
    },
    "language_info": {
      "name": "python"
    },
    "accelerator": "GPU"
  },
  "cells": [
    {
      "cell_type": "markdown",
      "metadata": {
        "id": "view-in-github",
        "colab_type": "text"
      },
      "source": [
        "<a href=\"https://colab.research.google.com/github/webishan/Ai-Agent-Development/blob/master/Basic_FAQ_Agent.ipynb\" target=\"_parent\"><img src=\"https://colab.research.google.com/assets/colab-badge.svg\" alt=\"Open In Colab\"/></a>"
      ]
    },
    {
      "cell_type": "code",
      "source": [
        "!pip install openai langchain langchain-community langchain-core"
      ],
      "metadata": {
        "id": "aMy_60H9l6dd"
      },
      "execution_count": null,
      "outputs": []
    },
    {
      "cell_type": "code",
      "execution_count": null,
      "metadata": {
        "id": "OMgRh6AUeU-6"
      },
      "outputs": [],
      "source": [
        "from google.colab import userdata\n",
        "userdata.get('openai-apikey')"
      ]
    },
    {
      "cell_type": "code",
      "source": [
        "# Import necessary libraries\n",
        "import openai\n",
        "from langchain.chat_models import ChatOpenAI\n",
        "from langchain.prompts import PromptTemplate\n",
        "from langchain.chains import LLMChain\n",
        "\n",
        "# Set up OpenAI API key\n",
        "import os\n",
        "os.environ[\"OPENAI_API_KEY\"] = userdata.get('openai-apikey').strip()  # Replace with your API key\n",
        "\n",
        "# Sample FAQ data on agents and their benefits\n",
        "faq_data = [\n",
        "    {\"question\": \"What is an AI agent?\", \"answer\": \"An AI agent is a system that can autonomously perform tasks based on inputs and learned knowledge.\"},\n",
        "    {\"question\": \"How can AI agents improve efficiency?\", \"answer\": \"AI agents can automate repetitive tasks, streamline decision-making, and enhance customer support with accurate responses.\"},\n",
        "    {\"question\": \"What industries benefit most from AI agents?\", \"answer\": \"Industries like healthcare, e-commerce, finance, and customer support heavily benefit from AI agents.\"},\n",
        "    {\"question\": \"Are AI agents customizable?\", \"answer\": \"Yes, AI agents can be trained with specific data and prompts to suit various use cases.\"},\n",
        "    {\"question\": \"Will AI agent repace human workforce\", \"answer\": \"No, it will reduce the workload. But it's true that it will have negative impact on unskilled labour\"},\n",
        "\n",
        "]\n",
        "\n",
        "# Initialize the GPT-4o mini model\n",
        "chat_model = ChatOpenAI(model=\"gpt-4o-mini\", temperature=0.7)\n",
        "\n",
        "# Create a template for chatbot responses\n",
        "faq_template = PromptTemplate(\n",
        "    input_variables=[\"question\"],\n",
        "    template=\"You are an AI chatbot. Answer this question based on the provided FAQ data:\\n{faq_data}\\nQuestion: {question}\"\n",
        ")\n",
        "\n",
        "# Create a chain for handling chatbot interactions\n",
        "faq_chain = LLMChain(\n",
        "    prompt=faq_template,\n",
        "    llm=chat_model\n",
        ")\n",
        "\n",
        "# Function to handle user queries\n",
        "def chatbot():\n",
        "    print(\"Welcome to the AI FAQ Chatbot! Ask me about agents and their benefits. Type 'exit' to stop.\")\n",
        "    while True:\n",
        "        user_input = input(\"You: \")\n",
        "        if user_input.lower() == 'exit':\n",
        "            print(\"Goodbye!\")\n",
        "            break\n",
        "        response = faq_chain.run({\"question\": user_input, \"faq_data\": faq_data})\n",
        "        print(\"Bot:\", response)\n",
        "\n",
        "# Run the chatbot in Colab\n",
        "display(chatbot())"
      ],
      "metadata": {
        "colab": {
          "base_uri": "https://localhost:8080/"
        },
        "id": "HgE7tjDgla-U",
        "outputId": "bfd4bd0f-718e-4cee-ac16-11d5e0530979"
      },
      "execution_count": null,
      "outputs": [
        {
          "output_type": "stream",
          "name": "stderr",
          "text": [
            "<ipython-input-3-66e484b6af22>:22: LangChainDeprecationWarning: The class `ChatOpenAI` was deprecated in LangChain 0.0.10 and will be removed in 1.0. An updated version of the class exists in the :class:`~langchain-openai package and should be used instead. To use it run `pip install -U :class:`~langchain-openai` and import as `from :class:`~langchain_openai import ChatOpenAI``.\n",
            "  chat_model = ChatOpenAI(model=\"gpt-4o-mini\", temperature=0.7)\n",
            "<ipython-input-3-66e484b6af22>:31: LangChainDeprecationWarning: The class `LLMChain` was deprecated in LangChain 0.1.17 and will be removed in 1.0. Use :meth:`~RunnableSequence, e.g., `prompt | llm`` instead.\n",
            "  faq_chain = LLMChain(\n"
          ]
        },
        {
          "output_type": "stream",
          "name": "stdout",
          "text": [
            "Welcome to the AI FAQ Chatbot! Ask me about agents and their benefits. Type 'exit' to stop.\n"
          ]
        }
      ]
    },
    {
      "cell_type": "markdown",
      "source": [
        "# AI FAQ Chatbot Code Explanation\n",
        "![Code explanation in flow chart](https://lh3.googleusercontent.com/fife/ALs6j_EDrqGwgruo2lGaqFYMCcp495dVJbKvHpHhdGjGkA35ZOochkI6TAI6_1h23CVh06hVz4nKeI-KCYYrC8yXZSczAPeHhSWQfHMbnjySar_678_V_kw5g15yP7RZh_JiePWdX0rPqNifX7GzbjAGyKDMpx1XloX4e3tu8n-bblpf7IJOsJrCqaOr-5IL6k8zGNJ8wByachzpTXn1DQI2W9dGH_Y53R2Jxrgb8Hk1KxPIhHojJ58LVpqPDz_G37b6E_Gp-ZQXpxCRnqJI_aU8T1GrAK5g6P4Kce0vWUoBjd6jMr3M680wTNnc60rPnoV40WUp9SsNUPEzbgam6-Zvdtm9tIvCxjpwIqw0k_XGkE5-9fw_P8TEJzoKsQRF76gbGrNbMv2JVZqiO_0sfMSFH_sDMWolnVfvawxjOl-IawslgHC_vzp4RCFnR8jnTvK7gjaUU9KbAlIegprgJXl_K_ANUblSQ53f0f1H5kORrzdxt-vLG-i5c0ODLzzdVpr7TRheEWYhww26iHtNAkEIeT1gant-molFbOyRGmvofiAw5-4nltfMpeDAymEoKy2iPLIiWP3ZQylN907RRZ2QNhJNrBPrlV3o9qXf8bdkJCTwcr1rwa60N4ZOKgK5LsKzorkOyof6x3yCsJLCnA82zec-_4i3dDTNU5wuOPeVv1iSvTYETTBoUeOmZrPMsmNawL9yTa9PYBaTmfCU7fhsV1A2JAv97ZpEAABXNNKSNu1474_O8N-s-XZh9tHOcnwMjZWYWxmHMRyow0mJVVMvl5pwDlkadX02KZ-xYKRk1B4pWDm1PQolpc9POBfW0RT6lxyYSxP65-Pg-xyMTEspWyyo3T9gSMQyDaSGZNqMCFp6XhplinnG758ILL-SyzfaQM9jvT_RkQh5YAyZI2uiakOC90KzBJUseRjxdzfyrx9-w-WEGLsGghPa02AeZqobsnkPjnnDGMpInrv1Zz9xWsLRQTcU2yeUj7vRUOvroCFHyONTsdL6E6tJrMFxmT4berLy9AXBhQo3GJwq0YaHML70-3kf3ZHROlh_2UU4JMQoBBVcwo9sdLOLf9AonnPY8LtZ8-d02s98cyHDH2tDthOvGSh9aJ52xFfqlWOyHBsda7J-1R1qHc3wYS04GoGhVESm74o0WNT1K0I5xkb0C7AHX_vQurWB4f_VSU140np1eRpePpl0SdZ9a5xXar22zRyG71PW1o6BFu2gnx79zWqDAq63tKpVTLLw0Lc6lUT7Ed5cFaZr-caXcwOfLt-LMfd0wwWR1TQW0I6GMPcIPgX0P3b0ugkvW9ZYlKvBhH4N003zrDPXu1WZU5PmSNUHtO0CdZKip8RbCT79iPkJ86NrdZ0IizkLChZGTTE83lMLRvRoOXEx7whpVTUi50zDOA9yCXfdh0l8gR8ZessV-qO9Jpg-1lMjxoI9t2gk8P-8yw8kZKhMizL-wW6Q2VWHiLY11arR-y8b7M1e_gw5lE573lyANk_kLYBU15kdPk-UCPTE2Yt0WcLIkzivO4WOr651_kKYjRHHy9fTPnEebhWanBjXoERppF2ngVoGS9M_oMQuZ0nNvyLfeYoah5iLVX-MzPWYBEZ0x2QyzOHeBQ=w2880-h1631)\n",
        "\n",
        "## Step 1: Install Required Libraries\n",
        "- The code installs three key libraries:\n",
        "  - `openai`: For interacting with the OpenAI API.\n",
        "  - `langchain`: To simplify the creation of LLM chains for structured responses.\n",
        "  - `graphviz`: For visualizing the chatbot's flow using diagrams.\n",
        "\n",
        "---\n",
        "\n",
        "## Step 2: Import Necessary Libraries\n",
        "- The required libraries are imported:\n",
        "  - `openai` for API interaction.\n",
        "  - `ChatOpenAI`, `PromptTemplate`, and `LLMChain` from LangChain to build the chatbot's logic.\n",
        "  - `Digraph` from Graphviz for generating the flowchart visualization.\n",
        "\n",
        "---\n",
        "\n",
        "## Step 3: Set Up OpenAI API Key\n",
        "- The OpenAI API key is set using the `os` environment variable.\n",
        "- This ensures secure access to GPT-4o for generating chatbot responses.\n",
        "\n",
        "---\n",
        "\n",
        "## Step 4: Define Sample FAQ Data\n",
        "- A sample dataset is defined as a list of dictionaries, each containing:\n",
        "  - **`question`**: The question asked.\n",
        "  - **`answer`**: The corresponding answer.\n",
        "- This dataset helps guide the chatbot's responses.\n",
        "\n",
        "---\n",
        "\n",
        "## Step 5: Initialize the gpt-4o-mini Model\n",
        "- The GPT-4o model is initialized with:\n",
        "  - **`model=\"gpt-4o-mini\"`**: Uses GPT-4o for optimal performance.\n",
        "  - **`temperature=0.7`**: Controls randomness — higher values increase creativity, while lower values make responses more focused.\n",
        "\n",
        "---\n",
        "\n",
        "## Step 6: Create a Prompt Template\n",
        "- The prompt template structures the conversation by:\n",
        "  - Incorporating the FAQ data.\n",
        "  - Formulating questions in a clear format for the model.\n",
        "\n",
        "---\n",
        "\n",
        "## Step 7: Create Chain for Chatbot\n",
        "- An `LLMChain` is created to:\n",
        "  - Process user queries using the chatbot model.\n",
        "  - Combine the template and the GPT-4o model.\n",
        "\n",
        "---\n",
        "\n",
        "## Step 8: Define Chatbot Function\n",
        "- The chatbot function handles the user interaction loop:\n",
        "  - It greets the user.\n",
        "  - Continuously accepts user input until 'exit' is typed.\n",
        "  - It fetches responses from the `faq_chain` using the user's question.\n",
        "\n",
        "---\n",
        "\n",
        "## Step 9: Define Flowchart Generation\n",
        "- The `generate_flowchart` function creates a visual diagram of the code’s flow:\n",
        "  - Nodes represent steps in the code.\n",
        "  - Edges connect these nodes to depict the logical flow.\n",
        "\n",
        "---\n",
        "\n",
        "## Step 10: Run Chatbot and Flowchart\n",
        "- The chatbot function is executed to start user interaction.\n",
        "- The `generate_flowchart()` function produces a `.png` visualization of the chatbot’s logic.\n",
        "\n",
        "---\n",
        "\n",
        "## Key Notes\n",
        "- The chatbot effectively leverages GPT-4o for natural language responses.\n",
        "- The flowchart provides a clear visual guide to the code’s structure.\n"
      ],
      "metadata": {
        "id": "yQL6QP17rStG"
      }
    },
    {
      "cell_type": "code",
      "source": [],
      "metadata": {
        "id": "SB61PFNRrTaL"
      },
      "execution_count": null,
      "outputs": []
    }
  ]
}